{
 "cells": [
  {
   "cell_type": "code",
   "execution_count": null,
   "id": "a0ca9b3e-8e7b-4ae7-8589-c3e4742be3f9",
   "metadata": {},
   "outputs": [],
   "source": [
    "Q1. Create a function which will take a list as an argument and return the product of all the numbers\n",
    "after creating a flat list.\n",
    "Use the below-given list as an argument for your function.\n",
    "list1 = [1,2,3,4, [44,55,66, True], False, (34,56,78,89,34), {1,2,3,3,2,1}, {1:34, \"key2\": [55, 67, 78, 89], 4: (45,\n",
    "22, 61, 34)}, [56, 'data science'], 'Machine Learning']\n",
    "Note: you must extract numeric keys and values of the dictionary also.\n"
   ]
  },
  {
   "cell_type": "code",
   "execution_count": 18,
   "id": "8e5a8cba-8624-4001-b115-a42001b134fe",
   "metadata": {},
   "outputs": [],
   "source": [
    "def mylist(lis):\n",
    "    flatlist = []\n",
    "    for i in lis:\n",
    "        if type(i) == list or type(i) == tuple or type(i) == set:\n",
    "            for j in i :\n",
    "                if type(j) == int:\n",
    "                    flatlist.append(j)\n",
    "        elif type(i) == dict:\n",
    "                    for x in i.values():\n",
    "                        if type(x) == int:\n",
    "                            flatlist.append(x)\n",
    "                        elif type(x) == list or type(x) == tuple:\n",
    "                            for k in x:\n",
    "                                if type(k) == int:\n",
    "                                    flatlist.append(k)\n",
    "                    for y in i.keys():\n",
    "                        if type(y) == int:\n",
    "                            flatlist.append(y)\n",
    "        else:\n",
    "            if type(i)== int:\n",
    "                flatlist.append(i)\n",
    "    return(flatlist)\n",
    "                        "
   ]
  },
  {
   "cell_type": "code",
   "execution_count": 30,
   "id": "8fd6c9fb-b326-4d7f-bb84-676a76740419",
   "metadata": {},
   "outputs": [
    {
     "name": "stdout",
     "output_type": "stream",
     "text": [
      "[1, 2, 3, 4, 44, 55, 66, 34, 56, 78, 89, 34, 1, 2, 3, 34, 55, 67, 78, 89, 45, 22, 61, 34, 1, 4, 56]\n",
      "<class 'list'>\n",
      "27\n",
      "Product of the extracted list:  4134711838987085478833841242112000\n"
     ]
    }
   ],
   "source": [
    "list1 = [1,2,3,4, [44,55,66, True], False, (34,56,78,89,34), {1,2,3,3,2,1}, {1:34, \"key2\": [55, 67, 78, 89], 4: (45,\n",
    "22, 61, 34)}, [56, 'data science'], 'Machine Learning']\n",
    "a = mylist(list1)\n",
    "print(a)\n",
    "print(type(a))\n",
    "print(len(a))\n",
    "from functools import reduce\n",
    "z = reduce(lambda x,y : x*y, a)\n",
    "print(\"Product of the extracted list: \", z)\n",
    "# print()\n",
    "# prod = 1\n",
    "# for i in a:\n",
    "#     prod= prod * i\n",
    "# print(prod)\n"
   ]
  },
  {
   "cell_type": "code",
   "execution_count": null,
   "id": "eb951357-8dc6-445f-ad63-a33880be5ccf",
   "metadata": {},
   "outputs": [],
   "source": [
    "Q2. Write a python program for encrypting a message sent to you by your friend. The logic of encryption\n",
    "should be such that, for a the output should be z. For b, the output should be y. For c, the output should\n",
    "be x respectively. Also, the whitespace should be replaced with a dollar sign. Keep the punctuation\n",
    "marks unchanged.\n",
    "Input Sentence: I want to become a Data Scientist.\n",
    "Encrypt the above input sentence using the program you just created.\n",
    "Note: Convert the given input sentence into lowercase before encrypting. The final output should be\n",
    "lowercase."
   ]
  },
  {
   "cell_type": "code",
   "execution_count": 44,
   "id": "3068e5fd-7444-4bd4-8429-bed55cfd8d31",
   "metadata": {},
   "outputs": [],
   "source": [
    "def encypt(inp):\n",
    "    a = inp.lower()\n",
    "    dic = {\" \":\"$\",\"a\": \"z\",\"b\":\"y\",\"c\":\"x\",\"d\":\"w\",\"e\":\"v\",\"f\":\"u\",\"g\":\"t\",\"h\":\"s\",\"i\":\"r\",\"j\":\"q\",\"k\":\"p\",\"l\":\"o\",\"m\":\"n\",\"n\":\"m\",\"o\":\"l\",\"p\":\"k\",\"q\":\"j\",\"r\":\"i\",\"s\":\"h\",\"t\":\"g\",\"u\":\"f\",\"v\":\"e\",\"w\":\"d\",\"x\":\"c\",\"y\":\"b\",\"z\":\"a\"}\n",
    "    for i in a:\n",
    "        a = a.replace(i,dic[i])\n",
    "    return a"
   ]
  },
  {
   "cell_type": "code",
   "execution_count": 46,
   "id": "cf0cbb06-0871-4187-b0a6-6e42928cc4c5",
   "metadata": {},
   "outputs": [
    {
     "name": "stdout",
     "output_type": "stream",
     "text": [
      "r$wzmg$gl$yvxlmv$z$wzgz$hxrvmgrhg\n"
     ]
    }
   ],
   "source": [
    "sentence = 'I want to become a Data Scientist'\n",
    "print(encypt(sentence))"
   ]
  },
  {
   "cell_type": "code",
   "execution_count": null,
   "id": "4b5738db-0820-4b26-a3de-fd47284c79f6",
   "metadata": {},
   "outputs": [],
   "source": []
  }
 ],
 "metadata": {
  "kernelspec": {
   "display_name": "Python 3 (ipykernel)",
   "language": "python",
   "name": "python3"
  },
  "language_info": {
   "codemirror_mode": {
    "name": "ipython",
    "version": 3
   },
   "file_extension": ".py",
   "mimetype": "text/x-python",
   "name": "python",
   "nbconvert_exporter": "python",
   "pygments_lexer": "ipython3",
   "version": "3.10.8"
  }
 },
 "nbformat": 4,
 "nbformat_minor": 5
}
